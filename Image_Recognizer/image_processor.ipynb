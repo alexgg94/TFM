{
 "cells": [
  {
   "cell_type": "markdown",
   "metadata": {},
   "source": [
    "# Image Processor\n",
    "\n",
    "This is the image processor. For each folder in *data/raw*, takes all the images and resize them to 50x50 as training the convolutional neural network it is required to have images of same size.\n",
    "Once the images are resized, they are saved on *data/processed* in a folder with the same name as the original one.<br/>\n",
    "\n",
    "As the model will be binary (only has to predict cow/no cow) in *data/raw* there will be only two folders, one with only cow images and the other one with random images with anything but cows.\n"
   ]
  },
  {
   "cell_type": "code",
   "execution_count": 1,
   "metadata": {},
   "outputs": [],
   "source": [
    "from PIL import Image\n",
    "import cv2\n",
    "import os"
   ]
  },
  {
   "cell_type": "code",
   "execution_count": 2,
   "metadata": {},
   "outputs": [],
   "source": [
    "\"\"\"\n",
    "Resize the given image to 50x50\n",
    "\"\"\"\n",
    "def ImageResizer(image):\n",
    "    return cv2.resize(image,(50,50))"
   ]
  },
  {
   "cell_type": "code",
   "execution_count": null,
   "metadata": {},
   "outputs": [],
   "source": [
    "for folder in os.listdir(\"data/raw\"):\n",
    "    for image_name in os.listdir(\"data/raw/\"+folder):\n",
    "        try:\n",
    "            print(\"Processing \" + image_name)\n",
    "            image = cv2.imread(\"data/raw/\"+ folder +\"/\" + image_name)\n",
    "            resized_image = ImageResizer(image)\n",
    "            if not os.path.exists(\"data/processed/\"+ folder +\"/\"):\n",
    "                os.makedirs(\"data/processed/\"+ folder +\"/\")\n",
    "            cv2.imwrite(\"data/processed/\"+ folder +\"/\" + image_name, resized_image)\n",
    "        except:\n",
    "            print(\"Could not process \" + image_name)"
   ]
  }
 ],
 "metadata": {
  "kernelspec": {
   "display_name": "Python 3.6 (tensorflow)",
   "language": "python",
   "name": "tensorflow"
  },
  "language_info": {
   "codemirror_mode": {
    "name": "ipython",
    "version": 3
   },
   "file_extension": ".py",
   "mimetype": "text/x-python",
   "name": "python",
   "nbconvert_exporter": "python",
   "pygments_lexer": "ipython3",
   "version": "3.6.8"
  }
 },
 "nbformat": 4,
 "nbformat_minor": 2
}
