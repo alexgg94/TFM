{
 "cells": [
  {
   "cell_type": "code",
   "execution_count": 2,
   "metadata": {},
   "outputs": [
    {
     "name": "stderr",
     "output_type": "stream",
     "text": [
      "Using TensorFlow backend.\n"
     ]
    }
   ],
   "source": [
    "import numpy as np\n",
    "import keras\n",
    "import os\n",
    "from PIL import Image\n",
    "import cv2\n",
    "from keras.models import Sequential\n",
    "from keras.layers import Conv2D,MaxPooling2D, Dense, Flatten, Dropout, Activation\n",
    "from keras.utils import np_utils\n",
    "from keras.models import model_from_json"
   ]
  },
  {
   "cell_type": "code",
   "execution_count": 3,
   "metadata": {},
   "outputs": [],
   "source": [
    "data = []\n",
    "labels = []\n",
    "\n",
    "for cow in os.listdir(\"data/processed/Cow\"):\n",
    "    try:\n",
    "        image = cv2.imread(\"data/processed/Cow/\" + cow)\n",
    "        data.append(np.array(image))\n",
    "        labels.append(0)\n",
    "    except:\n",
    "        print(\"Could not process \" + cow)\n",
    "\n",
    "for no_cow in os.listdir(\"data/processed/NoCow\"):\n",
    "    try:\n",
    "        image = cv2.imread(\"data/processed/NoCow/\" + no_cow)\n",
    "        data.append(np.array(image))\n",
    "        labels.append(1)\n",
    "    except:\n",
    "        print(\"Could not process \" + no_cow)\n",
    "\n",
    "data = np.array(data)\n",
    "labels = np.array(labels)"
   ]
  },
  {
   "cell_type": "code",
   "execution_count": 4,
   "metadata": {},
   "outputs": [
    {
     "name": "stdout",
     "output_type": "stream",
     "text": [
      "_________________________________________________________________\n",
      "Layer (type)                 Output Shape              Param #   \n",
      "=================================================================\n",
      "conv2d_1 (Conv2D)            (None, 50, 50, 32)        896       \n",
      "_________________________________________________________________\n",
      "activation_1 (Activation)    (None, 50, 50, 32)        0         \n",
      "_________________________________________________________________\n",
      "conv2d_2 (Conv2D)            (None, 50, 50, 32)        9248      \n",
      "_________________________________________________________________\n",
      "activation_2 (Activation)    (None, 50, 50, 32)        0         \n",
      "_________________________________________________________________\n",
      "max_pooling2d_1 (MaxPooling2 (None, 25, 25, 32)        0         \n",
      "_________________________________________________________________\n",
      "dropout_1 (Dropout)          (None, 25, 25, 32)        0         \n",
      "_________________________________________________________________\n",
      "conv2d_3 (Conv2D)            (None, 25, 25, 64)        18496     \n",
      "_________________________________________________________________\n",
      "activation_3 (Activation)    (None, 25, 25, 64)        0         \n",
      "_________________________________________________________________\n",
      "conv2d_4 (Conv2D)            (None, 23, 23, 64)        36928     \n",
      "_________________________________________________________________\n",
      "activation_4 (Activation)    (None, 23, 23, 64)        0         \n",
      "_________________________________________________________________\n",
      "max_pooling2d_2 (MaxPooling2 (None, 11, 11, 64)        0         \n",
      "_________________________________________________________________\n",
      "dropout_2 (Dropout)          (None, 11, 11, 64)        0         \n",
      "_________________________________________________________________\n",
      "flatten_1 (Flatten)          (None, 7744)              0         \n",
      "_________________________________________________________________\n",
      "dense_1 (Dense)              (None, 512)               3965440   \n",
      "_________________________________________________________________\n",
      "activation_5 (Activation)    (None, 512)               0         \n",
      "_________________________________________________________________\n",
      "dropout_3 (Dropout)          (None, 512)               0         \n",
      "_________________________________________________________________\n",
      "dense_2 (Dense)              (None, 2)                 1026      \n",
      "_________________________________________________________________\n",
      "activation_6 (Activation)    (None, 2)                 0         \n",
      "=================================================================\n",
      "Total params: 4,032,034\n",
      "Trainable params: 4,032,034\n",
      "Non-trainable params: 0\n",
      "_________________________________________________________________\n"
     ]
    },
    {
     "name": "stderr",
     "output_type": "stream",
     "text": [
      "C:\\Users\\alexg\\Miniconda3\\envs\\tensorflow-gpu\\lib\\site-packages\\ipykernel_launcher.py:27: UserWarning: Update your `Conv2D` call to the Keras 2 API: `Conv2D(64, (3, 3))`\n"
     ]
    }
   ],
   "source": [
    "\"\"\"\n",
    "model = Sequential()\n",
    "model.add(Conv2D(filters=16,kernel_size=2,padding=\"same\",activation=\"relu\",input_shape=(50, 50, 3)))\n",
    "model.add(MaxPooling2D(pool_size=2))\n",
    "model.add(Conv2D(filters=32,kernel_size=2,padding=\"same\",activation=\"relu\"))\n",
    "model.add(MaxPooling2D(pool_size=2))\n",
    "model.add(Conv2D(filters=64,kernel_size=2,padding=\"same\",activation=\"relu\"))\n",
    "model.add(MaxPooling2D(pool_size=2))\n",
    "model.add(Conv2D(filters=128,kernel_size=2,padding=\"same\",activation=\"relu\"))\n",
    "model.add(MaxPooling2D(pool_size=2))\n",
    "model.add(Dropout(0.2))\n",
    "model.add(Flatten())\n",
    "model.add(Dense(500,activation=\"relu\"))\n",
    "model.add(Dropout(0.2))\n",
    "model.add(Dense(2,activation=\"softmax\"))\n",
    "model.summary()\n",
    "\"\"\"\n",
    "model = Sequential()\n",
    "model.add(Conv2D(32, (3, 3), padding='same',input_shape=(50, 50, 3)))\n",
    "model.add(Activation('relu'))\n",
    "model.add(Conv2D(32, (3, 3), padding='same'))\n",
    "model.add(Activation('relu'))\n",
    "model.add(MaxPooling2D(pool_size=(2, 2)))\n",
    "model.add(Dropout(0.25))\n",
    "model.add(Conv2D(64, (3, 3), padding='same'))\n",
    "model.add(Activation('relu'))\n",
    "model.add(Conv2D(64, 3, 3))\n",
    "model.add(Activation('relu'))\n",
    "model.add(MaxPooling2D(pool_size=(2, 2)))\n",
    "model.add(Dropout(0.25))\n",
    "model.add(Flatten())\n",
    "model.add(Dense(512))\n",
    "model.add(Activation('relu'))\n",
    "model.add(Dropout(0.5))\n",
    "model.add(Dense(2))\n",
    "model.add(Activation('softmax'))\n",
    "model.summary()"
   ]
  },
  {
   "cell_type": "code",
   "execution_count": 5,
   "metadata": {},
   "outputs": [],
   "source": [
    "model.compile(loss='categorical_crossentropy', optimizer='adam', metrics=['accuracy'])"
   ]
  },
  {
   "cell_type": "code",
   "execution_count": 6,
   "metadata": {},
   "outputs": [
    {
     "name": "stdout",
     "output_type": "stream",
     "text": [
      "Epoch 1/40\n",
      "72717/72717 [==============================] - 262s 4ms/step - loss: 0.4134 - acc: 0.8032\n",
      "Epoch 2/40\n",
      "72717/72717 [==============================] - 236s 3ms/step - loss: 0.3327 - acc: 0.8468\n",
      "Epoch 3/40\n",
      "72717/72717 [==============================] - 236s 3ms/step - loss: 0.2971 - acc: 0.8683\n",
      "Epoch 4/40\n",
      "72717/72717 [==============================] - 236s 3ms/step - loss: 0.2650 - acc: 0.8837\n",
      "Epoch 5/40\n",
      "72717/72717 [==============================] - 236s 3ms/step - loss: 0.2404 - acc: 0.8984\n",
      "Epoch 6/40\n",
      "72717/72717 [==============================] - 236s 3ms/step - loss: 0.2152 - acc: 0.9088\n",
      "Epoch 7/40\n",
      "72717/72717 [==============================] - 236s 3ms/step - loss: 0.1940 - acc: 0.9185\n",
      "Epoch 8/40\n",
      "72717/72717 [==============================] - 236s 3ms/step - loss: 0.1772 - acc: 0.9266\n",
      "Epoch 9/40\n",
      "72717/72717 [==============================] - 236s 3ms/step - loss: 0.1572 - acc: 0.9354\n",
      "Epoch 10/40\n",
      "72717/72717 [==============================] - 236s 3ms/step - loss: 0.1436 - acc: 0.9418\n",
      "Epoch 11/40\n",
      "72717/72717 [==============================] - 236s 3ms/step - loss: 0.1305 - acc: 0.9468\n",
      "Epoch 12/40\n",
      "72717/72717 [==============================] - 236s 3ms/step - loss: 0.1201 - acc: 0.9518\n",
      "Epoch 13/40\n",
      "72717/72717 [==============================] - 236s 3ms/step - loss: 0.1088 - acc: 0.9562\n",
      "Epoch 14/40\n",
      "72717/72717 [==============================] - 236s 3ms/step - loss: 0.1028 - acc: 0.9596\n",
      "Epoch 15/40\n",
      "72717/72717 [==============================] - 236s 3ms/step - loss: 0.0960 - acc: 0.9625\n",
      "Epoch 16/40\n",
      "72717/72717 [==============================] - 1184s 16ms/step - loss: 0.0866 - acc: 0.9656\n",
      "Epoch 17/40\n",
      "72717/72717 [==============================] - 236s 3ms/step - loss: 0.0858 - acc: 0.9673\n",
      "Epoch 18/40\n",
      "72717/72717 [==============================] - 236s 3ms/step - loss: 0.0814 - acc: 0.9693\n",
      "Epoch 19/40\n",
      "72717/72717 [==============================] - 235s 3ms/step - loss: 0.0782 - acc: 0.9701\n",
      "Epoch 20/40\n",
      "72717/72717 [==============================] - 235s 3ms/step - loss: 0.0740 - acc: 0.9727\n",
      "Epoch 21/40\n",
      "72717/72717 [==============================] - 236s 3ms/step - loss: 0.0720 - acc: 0.9725\n",
      "Epoch 22/40\n",
      "72717/72717 [==============================] - 236s 3ms/step - loss: 0.0693 - acc: 0.9738\n",
      "Epoch 23/40\n",
      "72717/72717 [==============================] - 236s 3ms/step - loss: 0.0669 - acc: 0.9744\n",
      "Epoch 24/40\n",
      "72717/72717 [==============================] - 236s 3ms/step - loss: 0.0637 - acc: 0.9760\n",
      "Epoch 25/40\n",
      "72717/72717 [==============================] - 235s 3ms/step - loss: 0.0630 - acc: 0.9767\n",
      "Epoch 26/40\n",
      "72717/72717 [==============================] - 235s 3ms/step - loss: 0.0588 - acc: 0.9784\n",
      "Epoch 27/40\n",
      "72717/72717 [==============================] - 235s 3ms/step - loss: 0.0599 - acc: 0.9774\n",
      "Epoch 28/40\n",
      "72717/72717 [==============================] - 235s 3ms/step - loss: 0.0554 - acc: 0.9793\n",
      "Epoch 29/40\n",
      "72717/72717 [==============================] - 1535s 21ms/step - loss: 0.0561 - acc: 0.9792\n",
      "Epoch 30/40\n",
      "72717/72717 [==============================] - 236s 3ms/step - loss: 0.0540 - acc: 0.9799\n",
      "Epoch 31/40\n",
      "72717/72717 [==============================] - 236s 3ms/step - loss: 0.0520 - acc: 0.9814\n",
      "Epoch 32/40\n",
      "72717/72717 [==============================] - 236s 3ms/step - loss: 0.0511 - acc: 0.9812\n",
      "Epoch 33/40\n",
      "72717/72717 [==============================] - 236s 3ms/step - loss: 0.0500 - acc: 0.9819\n",
      "Epoch 34/40\n",
      "72717/72717 [==============================] - 236s 3ms/step - loss: 0.0496 - acc: 0.9822\n",
      "Epoch 35/40\n",
      "72717/72717 [==============================] - 236s 3ms/step - loss: 0.0473 - acc: 0.9827\n",
      "Epoch 36/40\n",
      "72717/72717 [==============================] - 236s 3ms/step - loss: 0.0479 - acc: 0.9824\n",
      "Epoch 37/40\n",
      "72717/72717 [==============================] - 236s 3ms/step - loss: 0.0457 - acc: 0.9839\n",
      "Epoch 38/40\n",
      "72717/72717 [==============================] - 236s 3ms/step - loss: 0.0452 - acc: 0.9834\n",
      "Epoch 39/40\n",
      "72717/72717 [==============================] - 236s 3ms/step - loss: 0.0435 - acc: 0.9847\n",
      "Epoch 40/40\n",
      "72717/72717 [==============================] - 236s 3ms/step - loss: 0.0483 - acc: 0.9827\n"
     ]
    },
    {
     "data": {
      "text/plain": [
       "<keras.callbacks.History at 0x17b078a35c0>"
      ]
     },
     "execution_count": 6,
     "metadata": {},
     "output_type": "execute_result"
    }
   ],
   "source": [
    "y = keras.utils.np_utils.to_categorical(labels, len(np.unique(labels)))\n",
    "x = data.astype('float32')/255\n",
    "#model.fit(x, y, batch_size=50, epochs=100, verbose=1)\n",
    "model.fit(x, y, batch_size=128, epochs=40, verbose=1)"
   ]
  },
  {
   "cell_type": "code",
   "execution_count": 7,
   "metadata": {},
   "outputs": [
    {
     "name": "stdout",
     "output_type": "stream",
     "text": [
      "Could not process animal-power.jpg\n",
      "Could not process documentsfeaturesimages21888pigletsthreeamigosjpg___940.420_0_0__85.jpgdlu003dhttp3A2F2Fwww.animalsaustralia.org2Fresources2Fresample.php3Fx3D94026y3D42026q3D8526i3D2Fdocuments2Ffeatures2Fimages2F21888_piglets-three-amigos.jpg\n"
     ]
    }
   ],
   "source": [
    "def ResizeImage(image):\n",
    "    return np.array(Image.fromarray(image, 'RGB').resize((50, 50)))\n",
    "\n",
    "data = []\n",
    "labels = []\n",
    "\n",
    "for cow in os.listdir(\"data/test/Cow\"):\n",
    "    try:\n",
    "        image = cv2.imread(\"data/test/Cow/\" + cow)\n",
    "        data.append(ResizeImage(image))\n",
    "        labels.append(0)\n",
    "    except:\n",
    "        print(\"Could not process \" + cow)\n",
    "\n",
    "for no_cow in os.listdir(\"data/test/NoCow\"):\n",
    "    try:\n",
    "        image = cv2.imread(\"data/test/NoCow/\" + no_cow)\n",
    "        data.append(ResizeImage(image))\n",
    "        labels.append(1)\n",
    "    except:\n",
    "        print(\"Could not process \" + no_cow)\n",
    "\n",
    "data = np.array(data)\n",
    "labels = np.array(labels)"
   ]
  },
  {
   "cell_type": "code",
   "execution_count": 8,
   "metadata": {},
   "outputs": [
    {
     "name": "stdout",
     "output_type": "stream",
     "text": [
      "134/134 [==============================] - 1s 5ms/step\n",
      "\n",
      " Test accuracy: 0.8283582089552238\n"
     ]
    }
   ],
   "source": [
    "y = keras.utils.np_utils.to_categorical(labels, len(np.unique(labels)))\n",
    "x = data.astype('float32')/255\n",
    "\n",
    "score = model.evaluate(x, y, verbose=1)\n",
    "print('\\n', 'Test accuracy:', score[1])"
   ]
  },
  {
   "cell_type": "code",
   "execution_count": 9,
   "metadata": {},
   "outputs": [],
   "source": [
    "model_json = model.to_json()\n",
    "with open(\"model.json\", \"w\") as json_file:\n",
    "    json_file.write(model_json)\n",
    "model.save_weights(\"model.h5\")"
   ]
  },
  {
   "cell_type": "code",
   "execution_count": 10,
   "metadata": {},
   "outputs": [
    {
     "name": "stdout",
     "output_type": "stream",
     "text": [
      "[name: \"/device:CPU:0\"\n",
      "device_type: \"CPU\"\n",
      "memory_limit: 268435456\n",
      "locality {\n",
      "}\n",
      "incarnation: 460845779449829077\n",
      ", name: \"/device:GPU:0\"\n",
      "device_type: \"GPU\"\n",
      "memory_limit: 1503454822\n",
      "locality {\n",
      "  bus_id: 1\n",
      "  links {\n",
      "  }\n",
      "}\n",
      "incarnation: 5039543349122414468\n",
      "physical_device_desc: \"device: 0, name: GeForce 920M, pci bus id: 0000:01:00.0, compute capability: 3.5\"\n",
      "]\n"
     ]
    }
   ],
   "source": [
    "from tensorflow.python.client import device_lib\n",
    "\n",
    "print(device_lib.list_local_devices())\n",
    "\n",
    "import tensorflow as tf\n",
    "sess = tf.Session(config=tf.ConfigProto(log_device_placement=True))"
   ]
  },
  {
   "cell_type": "code",
   "execution_count": null,
   "metadata": {},
   "outputs": [],
   "source": []
  }
 ],
 "metadata": {
  "kernelspec": {
   "display_name": "Python 3.6 (tensorflow-gpu)",
   "language": "python",
   "name": "tensorflow-gpu"
  },
  "language_info": {
   "codemirror_mode": {
    "name": "ipython",
    "version": 3
   },
   "file_extension": ".py",
   "mimetype": "text/x-python",
   "name": "python",
   "nbconvert_exporter": "python",
   "pygments_lexer": "ipython3",
   "version": "3.6.8"
  }
 },
 "nbformat": 4,
 "nbformat_minor": 2
}
